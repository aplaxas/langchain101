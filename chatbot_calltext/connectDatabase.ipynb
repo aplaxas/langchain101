{
 "cells": [
  {
   "cell_type": "code",
   "execution_count": 1,
   "metadata": {},
   "outputs": [
    {
     "name": "stdout",
     "output_type": "stream",
     "text": [
      "No data found for the given ID\n"
     ]
    }
   ],
   "source": [
    "import dclsDB\n",
    "\n",
    "\n",
    "table = \"DCLSCallLog\"\n",
    "id = 0\n",
    "\n",
    "calltext = dclsDB.fetch_data(table, id, \"CallText\")\n",
    "\n",
    "print(calltext)"
   ]
  }
 ],
 "metadata": {
  "kernelspec": {
   "display_name": "Python 3",
   "language": "python",
   "name": "python3"
  },
  "language_info": {
   "codemirror_mode": {
    "name": "ipython",
    "version": 3
   },
   "file_extension": ".py",
   "mimetype": "text/x-python",
   "name": "python",
   "nbconvert_exporter": "python",
   "pygments_lexer": "ipython3",
   "version": "3.11.4"
  },
  "orig_nbformat": 4
 },
 "nbformat": 4,
 "nbformat_minor": 2
}
