{
 "cells": [
  {
   "cell_type": "code",
   "execution_count": 8,
   "metadata": {},
   "outputs": [
    {
     "data": {
      "text/plain": [
       "True"
      ]
     },
     "execution_count": 8,
     "metadata": {},
     "output_type": "execute_result"
    }
   ],
   "source": [
    "from dotenv import load_dotenv\n",
    "\n",
    "load_dotenv()"
   ]
  },
  {
   "cell_type": "code",
   "execution_count": 9,
   "metadata": {},
   "outputs": [
    {
     "name": "stdout",
     "output_type": "stream",
     "text": [
      "d4e2ee4e-2f42-47b9-bd6b-2b3b48ac393e\n",
      "asia-southeast1-gcp-free\n"
     ]
    }
   ],
   "source": [
    "import os \n",
    "\n",
    "pk = os.getenv(\"PINECONE_API_KEY\")\n",
    "penv = os.getenv(\"PINECONE_ENV\")\n",
    "\n",
    "print(pk)\n",
    "print(penv)\n"
   ]
  },
  {
   "cell_type": "code",
   "execution_count": 13,
   "metadata": {},
   "outputs": [
    {
     "name": "stdout",
     "output_type": "stream",
     "text": [
      "2.0\n",
      "2.2\n"
     ]
    }
   ],
   "source": [
    "import pinecone\n",
    "import pinecone.info\n",
    "\n",
    "pinecone.init(api_key=pk, environment=penv)\n",
    "\n",
    "vInfo = pinecone.info.version()\n",
    "sVersion = \".\".join(vInfo.server.split(\".\")[:2])\n",
    "cVersion = \".\".join(vInfo.client.split(\".\")[:2])\n",
    "\n",
    "print(sVersion)\n",
    "print(cVersion)\n"
   ]
  },
  {
   "cell_type": "code",
   "execution_count": 16,
   "metadata": {},
   "outputs": [],
   "source": [
    "index_name = \"docqa\"\n",
    "pinecone.create_index(name=index_name, dimension=1536, metric=\"cosine\")"
   ]
  }
 ],
 "metadata": {
  "kernelspec": {
   "display_name": "llm",
   "language": "python",
   "name": "python3"
  },
  "language_info": {
   "codemirror_mode": {
    "name": "ipython",
    "version": 3
   },
   "file_extension": ".py",
   "mimetype": "text/x-python",
   "name": "python",
   "nbconvert_exporter": "python",
   "pygments_lexer": "ipython3",
   "version": "3.11.4"
  }
 },
 "nbformat": 4,
 "nbformat_minor": 2
}
