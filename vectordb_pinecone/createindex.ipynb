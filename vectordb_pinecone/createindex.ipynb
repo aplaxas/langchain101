{
 "cells": [
  {
   "cell_type": "code",
   "execution_count": 1,
   "metadata": {},
   "outputs": [
    {
     "data": {
      "text/plain": [
       "True"
      ]
     },
     "execution_count": 1,
     "metadata": {},
     "output_type": "execute_result"
    }
   ],
   "source": [
    "from dotenv import load_dotenv\n",
    "\n",
    "load_dotenv()"
   ]
  },
  {
   "cell_type": "code",
   "execution_count": 2,
   "metadata": {},
   "outputs": [
    {
     "name": "stdout",
     "output_type": "stream",
     "text": [
      "d4e2ee4e-2f42-47b9-bd6b-2b3b48ac393e\n",
      "asia-southeast1-gcp-free\n"
     ]
    }
   ],
   "source": [
    "import os \n",
    "\n",
    "pk = os.getenv(\"PINECONE_API_KEY\")\n",
    "penv = os.getenv(\"PINECONE_ENV\")\n",
    "\n",
    "print(pk)\n",
    "print(penv)\n"
   ]
  },
  {
   "cell_type": "code",
   "execution_count": 3,
   "metadata": {},
   "outputs": [
    {
     "name": "stderr",
     "output_type": "stream",
     "text": [
      "C:\\Users\\JongminLee\\AppData\\Roaming\\Python\\Python311\\site-packages\\pinecone\\index.py:4: TqdmWarning: IProgress not found. Please update jupyter and ipywidgets. See https://ipywidgets.readthedocs.io/en/stable/user_install.html\n",
      "  from tqdm.autonotebook import tqdm\n"
     ]
    },
    {
     "name": "stdout",
     "output_type": "stream",
     "text": [
      "2.0\n",
      "2.2\n"
     ]
    }
   ],
   "source": [
    "import pinecone\n",
    "import pinecone.info\n",
    "\n",
    "pinecone.init(api_key=pk, environment=penv)\n",
    "\n",
    "vInfo = pinecone.info.version()\n",
    "sVersion = \".\".join(vInfo.server.split(\".\")[:2])\n",
    "cVersion = \".\".join(vInfo.client.split(\".\")[:2])\n",
    "\n",
    "print(sVersion)\n",
    "print(cVersion)\n"
   ]
  },
  {
   "cell_type": "code",
   "execution_count": 16,
   "metadata": {},
   "outputs": [],
   "source": [
    "index_name = \"docqa\"\n",
    "pinecone.create_index(name=index_name, dimension=1536, metric=\"cosine\")"
   ]
  },
  {
   "cell_type": "code",
   "execution_count": 5,
   "metadata": {},
   "outputs": [
    {
     "name": "stdout",
     "output_type": "stream",
     "text": [
      "{'dimension': 1536,\n",
      " 'index_fullness': 0.0,\n",
      " 'namespaces': {},\n",
      " 'total_vector_count': 0}\n"
     ]
    }
   ],
   "source": [
    "index = pinecone.Index('docqa') \n",
    "index_stats_response = index.describe_index_stats()\n",
    "\n",
    "print(index_stats_response)"
   ]
  }
 ],
 "metadata": {
  "kernelspec": {
   "display_name": "llm",
   "language": "python",
   "name": "python3"
  },
  "language_info": {
   "codemirror_mode": {
    "name": "ipython",
    "version": 3
   },
   "file_extension": ".py",
   "mimetype": "text/x-python",
   "name": "python",
   "nbconvert_exporter": "python",
   "pygments_lexer": "ipython3",
   "version": "3.11.4"
  }
 },
 "nbformat": 4,
 "nbformat_minor": 2
}
